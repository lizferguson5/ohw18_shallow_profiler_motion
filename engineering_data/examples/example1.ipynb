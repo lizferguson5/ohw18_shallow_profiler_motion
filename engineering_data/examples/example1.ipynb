{
 "cells": [
  {
   "cell_type": "markdown",
   "metadata": {},
   "source": [
    "## Load some data"
   ]
  },
  {
   "cell_type": "code",
   "execution_count": 1,
   "metadata": {},
   "outputs": [],
   "source": [
    "import sys\n",
    "sys.path.insert(0,'..')\n",
    "\n",
    "import pandas as pd\n",
    "import sp_eng_data as ed\n",
    "from datetime import datetime\n",
    "\n",
    "from matplotlib.dates import DayLocator, HourLocator, DateFormatter, drange\n",
    "\n",
    "import matplotlib.pyplot as plt\n",
    "%matplotlib inline\n",
    "\n",
    "from visualocean.core import OOIASSET\n"
   ]
  },
  {
   "cell_type": "code",
   "execution_count": 2,
   "metadata": {},
   "outputs": [],
   "source": [
    "start_time = datetime(2017, 8, 21, 0)\n",
    "end_time   = datetime(2017, 8, 21, 2)\n",
    "\n",
    "pc_data = ed.load_sp_eng_data('PC01A', start_time, end_time)\n",
    "sc_data = ed.load_sp_eng_data('SC01A', start_time, end_time)"
   ]
  },
  {
   "cell_type": "code",
   "execution_count": null,
   "metadata": {},
   "outputs": [
    {
     "name": "stdout",
     "output_type": "stream",
     "text": [
      "Please wait while data is compiled.\n",
      "Please wait while data is compiled.\n"
     ]
    },
    {
     "data": {
      "text/plain": [
       "'https://opendap.oceanobservatories.org/thredds/catalog/ooi/amarburg@apl.washington.edu/20180224T060729-RS01SBPS-SF01A-2A-CTDPFA102-streamed-ctdpf_sbe43_sample/catalog.html'"
      ]
     },
     "execution_count": 3,
     "metadata": {},
     "output_type": "execute_result"
    }
   ],
   "source": [
    "\n",
    "pc_ctd = OOIASSET.from_reference_designator('RS01SBPS-PC01A-4A-CTDPFA103')\n",
    "pc_ctd.request_data(begin_date=start_time, end_date=end_time, credfile='creds.json')\n",
    "\n",
    "sc_ctd = OOIASSET.from_reference_designator('RS01SBPS-SF01A-2A-CTDPFA102')\n",
    "sc_ctd.request_data(begin_date=start_time, end_date=end_time, credfile='creds.json')\n"
   ]
  },
  {
   "cell_type": "code",
   "execution_count": null,
   "metadata": {},
   "outputs": [
    {
     "name": "stdout",
     "output_type": "stream",
     "text": [
      "Your data is still compiling... Please wait.\n",
      "Your data is still compiling... Please wait.\n",
      "Your data is still compiling... Please wait.\n",
      "Your data is still compiling... Please wait.\n",
      "Your data is still compiling... Please wait.\n",
      "Your data is still compiling... Please wait.\n",
      "Your data is still compiling... Please wait.\n",
      "Your data is still compiling... Please wait.\n",
      "Your data is still compiling... Please wait.\n",
      "Your data is still compiling... Please wait.\n",
      "Your data is still compiling... Please wait.\n",
      "Your data is still compiling... Please wait.\n",
      "Your data is still compiling... Please wait.\n",
      "Your data is still compiling... Please wait.\n",
      "Your data is still compiling... Please wait.\n",
      "Your data is still compiling... Please wait.\n",
      "Your data is still compiling... Please wait.\n",
      "Your data is still compiling... Please wait.\n",
      "Your data is still compiling... Please wait.\n",
      "Your data is still compiling... Please wait.\n",
      "Your data is still compiling... Please wait.\n",
      "Your data is still compiling... Please wait.\n",
      "Your data is still compiling... Please wait.\n",
      "Your data is still compiling... Please wait.\n",
      "Your data is still compiling... Please wait.\n",
      "Your data is still compiling... Please wait.\n",
      "Your data is still compiling... Please wait.\n",
      "Your data is still compiling... Please wait.\n",
      "Your data is still compiling... Please wait.\n",
      "Your data is still compiling... Please wait.\n",
      "Your data is still compiling... Please wait.\n",
      "Your data is still compiling... Please wait.\n",
      "Your data is still compiling... Please wait.\n",
      "Your data is still compiling... Please wait.\n",
      "Your data is still compiling... Please wait.\n",
      "Your data is still compiling... Please wait.\n",
      "Your data is still compiling... Please wait.\n",
      "Your data is still compiling... Please wait.\n",
      "Your data is still compiling... Please wait.\n",
      "Your data is still compiling... Please wait.\n",
      "Your data is still compiling... Please wait.\n",
      "Your data is still compiling... Please wait.\n",
      "Request completed\n"
     ]
    }
   ],
   "source": [
    "vars(pc_ctd)\n",
    "#print(sc_data)\n",
    "\n",
    "pctd = pc_ctd.to_xarray()  #.to_dataframe()\n",
    "sctd = sc_ctd.to_xarray()  #.to_dataframe()"
   ]
  },
  {
   "cell_type": "code",
   "execution_count": null,
   "metadata": {},
   "outputs": [],
   "source": [
    "f, ax = plt.subplots(3, sharex=True, figsize=(15,15))\n",
    "\n",
    "ax[0].plot(pc_data.index, pc_data['roll'], '.',\n",
    "              pc_data.index, pc_data['pitch'], '.',\n",
    "                pc_data.index, pc_data['yaw'], '.')\n",
    "\n",
    "ax[0].set_title('Platform')\n",
    "ax[0].set_ylabel('Deg')\n",
    "ax[0].legend(['roll','pitch','yaw'])\n",
    "\n",
    "ax[1].plot(sc_data.index, sc_data['roll'], '.',\n",
    "          sc_data.index, sc_data['pitch'], '.',\n",
    "          sc_data.index, sc_data['yaw'], '.')\n",
    "\n",
    "ax[1].set_title('Science Pod')\n",
    "ax[1].set_ylabel('Deg')\n",
    "#ax[1].xaxis.set_major_formatter(DateFormatter('%H:%M'))\n",
    "\n",
    "\n",
    "ax[2].plot(sc_data.index, sc_data['sdepth'], '.')\n",
    "\n",
    "ax[2].set_title('Depth')\n",
    "ax[2].set_ylabel('m')\n",
    "ax[2].xaxis.set_major_formatter(DateFormatter('%H:%M'))\n",
    "ax[2].invert_yaxis()\n"
   ]
  },
  {
   "cell_type": "code",
   "execution_count": null,
   "metadata": {},
   "outputs": [],
   "source": []
  },
  {
   "cell_type": "code",
   "execution_count": null,
   "metadata": {},
   "outputs": [],
   "source": []
  }
 ],
 "metadata": {
  "kernelspec": {
   "display_name": "Python 3",
   "language": "python",
   "name": "python3"
  },
  "language_info": {
   "codemirror_mode": {
    "name": "ipython",
    "version": 3
   },
   "file_extension": ".py",
   "mimetype": "text/x-python",
   "name": "python",
   "nbconvert_exporter": "python",
   "pygments_lexer": "ipython3",
   "version": "3.6.0"
  }
 },
 "nbformat": 4,
 "nbformat_minor": 2
}
